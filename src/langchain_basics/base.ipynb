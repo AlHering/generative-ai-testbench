{
    "cells": [
        {
            "cell_type": "code",
            "execution_count": 1,
            "id": "2ec56c31",
            "metadata": {},
            "outputs": [],
            "source": [
                "import os\n",
                "import sys"
            ]
        },
        {
            "cell_type": "code",
            "execution_count": 1,
            "id": "4268328e",
            "metadata": {},
            "outputs": [],
            "source": [
                "src_path = os.path.abspath(\"\").replace(\"/src/langchain_basics\", \"\")\n",
                "if src_path not in sys.path:\n",
                "    sys.path.append(src_path)"
            ]
        }
    ],
    "metadata": {
        "kernelspec": {
            "display_name": "venv",
            "language": "python",
            "name": "venv"
        },
        "language_info": {
            "codemirror_mode": {
                "name": "ipython",
                "version": 3
            },
            "file_extension": ".py",
            "mimetype": "text/x-python",
            "name": "python",
            "nbconvert_exporter": "python",
            "pygments_lexer": "ipython3",
            "version": "3.8.10"
        }
    },
    "nbformat": 4,
    "nbformat_minor": 5
}