{
    "cells": [
        {
            "cell_type": "code",
            "execution_count": 3,
            "id": "2ec56c31",
            "metadata": {},
            "outputs": [],
            "source": [
                "import os\n",
                "import sys"
            ]
        },
        {
            "cell_type": "code",
            "execution_count": 4,
            "id": "4268328e",
            "metadata": {},
            "outputs": [],
            "source": [
                "src_path = os.path.abspath(\"\").replace(\"/src/langchain_basics\", \"\")\n",
                "if src_path not in sys.path:\n",
                "    sys.path.append(src_path)"
            ]
        },
        {
            "cell_type": "code",
            "execution_count": 1,
            "id": "f34d2515",
            "metadata": {},
            "outputs": [],
            "source": [
                "from langchain.llms import LlamaCpp\n",
                "from langchain import PromptTemplate, LLMChain, FewShotPromptTemplate\n",
                "from src.configuration import configuration as cfg"
            ]
        },
        {
            "attachments": {},
            "cell_type": "markdown",
            "id": "09fbcd6f",
            "metadata": {},
            "source": [
                "(The following code is based off of https://github.com/samwit/langchain-tutorials/blob/main/)\n",
                "\n",
                "# Basic Chain"
            ]
        }
    ],
    "metadata": {
        "kernelspec": {
            "display_name": "venv",
            "language": "python",
            "name": "venv"
        },
        "language_info": {
            "codemirror_mode": {
                "name": "ipython",
                "version": 3
            },
            "file_extension": ".py",
            "mimetype": "text/x-python",
            "name": "python",
            "nbconvert_exporter": "python",
            "pygments_lexer": "ipython3",
            "version": "3.8.10"
        }
    },
    "nbformat": 4,
    "nbformat_minor": 5
}